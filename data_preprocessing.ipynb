# Gerekli kütüphaneleri yükleyelim
import pandas as pd
import numpy as np
from sklearn.model_selection import train_test_split
from sklearn.preprocessing import StandardScaler
from datasets import load_dataset

# Veri setini yükleme
data = pd.read_csv('veri_seti.csv')

# İlk birkaç satırı görüntüleme
print(data.head())

# Eksik değerleri kontrol etme
print(data.isnull().sum())

# Eksik değerleri doldurma (örneğin, medyan ile)
data = data.fillna(data.median())

# Kategorik verileri sayısal değerlere dönüştürme
data = pd.get_dummies(data, drop_first=True)

# Veriyi özellikler (X) ve hedef değişken (y) olarak ayırma
X = data.drop('hedef_degisken', axis=1)
y = data['hedef_degisken']

# Veriyi eğitim ve test setlerine ayırma
X_train, X_test, y_train, y_test = train_test_split(X, y, test_size=0.2, random_state=42)

# Ölçeklendirme
scaler = StandardScaler()
X_train = scaler.fit_transform(X_train)
X_test = scaler.transform(X_test)

print("Veri ön işleme tamamlandı.")
